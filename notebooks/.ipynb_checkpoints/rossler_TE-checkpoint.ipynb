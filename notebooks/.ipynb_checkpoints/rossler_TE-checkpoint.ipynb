{
 "cells": [
  {
   "cell_type": "code",
   "execution_count": 35,
   "metadata": {},
   "outputs": [
    {
     "data": {
      "text/latex": [
       "Unrecognized magic \\texttt{\\%load\\_ext}.\n",
       "\n",
       "Julia does not use the IPython \\texttt{\\%magic} syntax.   To interact with the IJulia kernel, use \\texttt{IJulia.somefunction(...)}, for example.  Julia macros, string macros, and functions can be used to accomplish most of the other functionalities of IPython magics.\n",
       "\n"
      ],
      "text/markdown": [
       "Unrecognized magic `%load_ext`.\n",
       "\n",
       "Julia does not use the IPython `%magic` syntax.   To interact with the IJulia kernel, use `IJulia.somefunction(...)`, for example.  Julia macros, string macros, and functions can be used to accomplish most of the other functionalities of IPython magics.\n"
      ],
      "text/plain": [
       "  Unrecognized magic \u001b[36m%load_ext\u001b[39m.\n",
       "\n",
       "  Julia does not use the IPython \u001b[36m%magic\u001b[39m syntax. To interact with the IJulia\n",
       "  kernel, use \u001b[36mIJulia.somefunction(...)\u001b[39m, for example. Julia macros, string\n",
       "  macros, and functions can be used to accomplish most of the other\n",
       "  functionalities of IPython magics."
      ]
     },
     "metadata": {},
     "output_type": "display_data"
    },
    {
     "data": {
      "text/latex": [
       "Unrecognized magic \\texttt{\\%autoreload}.\n",
       "\n",
       "Julia does not use the IPython \\texttt{\\%magic} syntax.   To interact with the IJulia kernel, use \\texttt{IJulia.somefunction(...)}, for example.  Julia macros, string macros, and functions can be used to accomplish most of the other functionalities of IPython magics.\n",
       "\n"
      ],
      "text/markdown": [
       "Unrecognized magic `%autoreload`.\n",
       "\n",
       "Julia does not use the IPython `%magic` syntax.   To interact with the IJulia kernel, use `IJulia.somefunction(...)`, for example.  Julia macros, string macros, and functions can be used to accomplish most of the other functionalities of IPython magics.\n"
      ],
      "text/plain": [
       "  Unrecognized magic \u001b[36m%autoreload\u001b[39m.\n",
       "\n",
       "  Julia does not use the IPython \u001b[36m%magic\u001b[39m syntax. To interact with the IJulia\n",
       "  kernel, use \u001b[36mIJulia.somefunction(...)\u001b[39m, for example. Julia macros, string\n",
       "  macros, and functions can be used to accomplish most of the other\n",
       "  functionalities of IPython magics."
      ]
     },
     "metadata": {},
     "output_type": "display_data"
    }
   ],
   "source": [
    "%load_ext autoreload #load the extension\n",
    "%autoreload 2 #autoreload all modules"
   ]
  },
  {
   "cell_type": "markdown",
   "metadata": {},
   "source": [
    "## Hi i'm using a notebook!\n",
    "# Activate the project\n",
    "## Be mindful of the **kernel**!!\n",
    "be mindful of *order*\n",
    "in the `code`\n",
    "\n",
    "    foo()\n"
   ]
  },
  {
   "cell_type": "code",
   "execution_count": 2,
   "metadata": {},
   "outputs": [
    {
     "name": "stderr",
     "output_type": "stream",
     "text": [
      "\u001b[32m\u001b[1m  Activating\u001b[22m\u001b[39m environment at `~/git_repos/TE_EG_project/package_CMI_prague/Project.toml`\n"
     ]
    }
   ],
   "source": [
    "using Pkg; Pkg.activate(\"../\")"
   ]
  },
  {
   "cell_type": "code",
   "execution_count": 6,
   "metadata": {},
   "outputs": [],
   "source": [
    "Pkg.instantiate()"
   ]
  },
  {
   "cell_type": "markdown",
   "metadata": {},
   "source": [
    "import Pkg; \n",
    "Pkg.add(\"Distributions\"); \n",
    "Pkg.add(\"Plots\");\n",
    "Pkg.add(\"Suppressor\");\n",
    "Pkg.add(\"DelayEmbeddings\");\n",
    "Pkg.add(\"Entropies\")"
   ]
  },
  {
   "cell_type": "code",
   "execution_count": 17,
   "metadata": {},
   "outputs": [],
   "source": [
    "using DrWatson\n",
    "\n",
    "using Plots\n",
    "using Suppressor\n",
    "\n",
    "import Distributions: Uniform, Normal\n",
    "\n",
    "using Entropies\n",
    "using DelayEmbeddings"
   ]
  },
  {
   "cell_type": "markdown",
   "metadata": {},
   "source": [
    "Pkg.status()"
   ]
  },
  {
   "cell_type": "code",
   "execution_count": 63,
   "metadata": {},
   "outputs": [
    {
     "data": {
      "text/plain": [
       "changevector! (generic function with 1 method)"
      ]
     },
     "execution_count": 63,
     "metadata": {},
     "output_type": "execute_result"
    }
   ],
   "source": [
    "include(\"../src/read_bin.jl\")\n",
    "include(\"../src/basicent.jl\")\n",
    "include(\"../src/compute_TE.jl\")"
   ]
  },
  {
   "cell_type": "code",
   "execution_count": 65,
   "metadata": {},
   "outputs": [
    {
     "name": "stdout",
     "output_type": "stream",
     "text": [
      "1 0.0\n",
      "2 0.002551020408163265\n",
      "3 0.00510204081632653\n",
      "4 0.007653061224489796\n",
      "5 0.01020408163265306\n",
      "6 0.012755102040816325\n",
      "7 0.015306122448979591\n",
      "8 0.017857142857142856\n",
      "9 0.02040816326530612\n",
      "10 0.02295918367346939\n",
      "11 0.02551020408163265\n",
      "12 0.02806122448979592\n",
      "13 0.030612244897959183\n",
      "14 0.033163265306122444\n",
      "15 0.03571428571428571\n",
      "16 0.03826530612244898\n",
      "17 0.04081632653061224\n",
      "18 0.04336734693877551\n",
      "19 0.04591836734693878\n",
      "20 0.04846938775510204\n",
      "21 0.0510204081632653\n",
      "22 0.053571428571428575\n",
      "23 0.05612244897959184\n",
      "24 0.0586734693877551\n",
      "25 0.061224489795918366\n",
      "26 0.06377551020408162\n",
      "27 0.06632653061224489\n",
      "28 0.06887755102040817\n",
      "29 0.07142857142857142\n",
      "30 0.07397959183673469\n",
      "31 0.07653061224489796\n",
      "32 0.07908163265306122\n",
      "33 0.08163265306122448\n",
      "34 0.08418367346938775\n",
      "35 0.08673469387755102\n",
      "36 0.08928571428571429\n",
      "37 0.09183673469387756\n",
      "38 0.09438775510204081\n",
      "39 0.09693877551020408\n",
      "40 0.09948979591836735\n",
      "41 0.1020408163265306\n",
      "42 0.10459183673469387\n",
      "43 0.10714285714285715\n",
      "44 0.1096938775510204\n",
      "45 0.11224489795918367\n",
      "46 0.11479591836734694\n",
      "47 0.1173469387755102\n",
      "48 0.11989795918367346\n",
      "49 0.12244897959183673\n",
      "50 0.125\n",
      "51 0.12755102040816324\n",
      "52 0.13010204081632654\n",
      "53 0.13265306122448978\n",
      "54 0.13520408163265304\n",
      "55 0.13775510204081634\n",
      "56 0.14030612244897958\n",
      "57 0.14285714285714285\n",
      "58 0.14540816326530612\n",
      "59 0.14795918367346939\n",
      "60 0.15051020408163263\n",
      "61 0.15306122448979592\n",
      "62 0.1556122448979592\n",
      "63 0.15816326530612243\n",
      "64 0.16071428571428573\n",
      "65 0.16326530612244897\n",
      "66 0.16581632653061223\n",
      "67 0.1683673469387755\n",
      "68 0.17091836734693877\n",
      "69 0.17346938775510204\n",
      "70 0.1760204081632653\n",
      "71 0.17857142857142858\n",
      "72 0.18112244897959182\n",
      "73 0.1836734693877551\n",
      "74 0.18622448979591835\n",
      "75 0.18877551020408162\n",
      "76 0.19132653061224492\n",
      "77 0.19387755102040816\n",
      "78 0.19642857142857142\n",
      "79 0.1989795918367347\n",
      "80 0.20153061224489796\n",
      "81 0.2040816326530612\n",
      "82 0.2066326530612245\n",
      "83 0.20918367346938774\n",
      "84 0.211734693877551\n",
      "85 0.2142857142857143\n",
      "86 0.21683673469387754\n",
      "87 0.2193877551020408\n",
      "88 0.22193877551020408\n",
      "89 0.22448979591836735\n",
      "90 0.2270408163265306\n",
      "91 0.22959183673469388\n",
      "92 0.23214285714285715\n",
      "93 0.2346938775510204\n",
      "94 0.2372448979591837\n",
      "95 0.23979591836734693\n",
      "96 0.2423469387755102\n",
      "97 0.24489795918367346\n",
      "98 0.24744897959183673\n"
     ]
    }
   ],
   "source": [
    "n_points = 131072\n",
    "couplings = LinRange(0, 0.25, 99)\n",
    "root = \"../data/exp_raw/binfiles/Rossler_bin_\"\n",
    "#root = \"/Users/andreu/Desktop/Dropbox/transfer_inormation_prague/code/binfiles/Rossler_bin_\"\n",
    "test_couplings = read_bin_couplings(root, n_points, couplings);"
   ]
  },
  {
   "cell_type": "code",
   "execution_count": 24,
   "metadata": {},
   "outputs": [
    {
     "name": "stdout",
     "output_type": "stream",
     "text": [
      "-Inf\n",
      "1.0909453959501931\n"
     ]
    }
   ],
   "source": [
    "a = test_couplings[:,:,33]\n",
    "x = a[:,2]/maximum(abs.(a[:,2]))\n",
    "Bin = 3\n",
    "estKnn = Kraskov(w = 3, k = Bin)\n",
    "estVf  = VisitationFrequency(Entropies.RectangularBinning(Bin))\n",
    "E1 = Entropies.genentropy(Dataset(x), estKnn)\n",
    "E2 = Entropies.genentropy(Dataset(x), estVf)\n",
    "println(E1)\n",
    "println(E2)"
   ]
  },
  {
   "cell_type": "code",
   "execution_count": 25,
   "metadata": {},
   "outputs": [
    {
     "ename": "LoadError",
     "evalue": "MethodError: no method matching tranfserentropy(::Dataset{3, Vector{Float64}}, ::Kraskov, ::Int64)\n\u001b[0mClosest candidates are:\n\u001b[0m  tranfserentropy(::Any, \u001b[91m::VisitationFrequency\u001b[39m; embdim, α, base) at /home/arinyoprats/git_repos/TE_EG_project/package_CMI_prague/src/basicent.jl:115",
     "output_type": "error",
     "traceback": [
      "MethodError: no method matching tranfserentropy(::Dataset{3, Vector{Float64}}, ::Kraskov, ::Int64)\n\u001b[0mClosest candidates are:\n\u001b[0m  tranfserentropy(::Any, \u001b[91m::VisitationFrequency\u001b[39m; embdim, α, base) at /home/arinyoprats/git_repos/TE_EG_project/package_CMI_prague/src/basicent.jl:115",
      "",
      "Stacktrace:",
      " [1] top-level scope",
      "   @ In[25]:4",
      " [2] eval",
      "   @ ./boot.jl:360 [inlined]",
      " [3] include_string(mapexpr::typeof(REPL.softscope), mod::Module, code::String, filename::String)",
      "   @ Base ./loading.jl:1116"
     ]
    }
   ],
   "source": [
    "x = [rand(Uniform(0, 1), 1) for i = 1:1000]\n",
    "y = [rand(Uniform(0, 1), 1) for i = 1:1000]\n",
    "joint = DelayEmbeddings.genembed(Dataset(x, y),  (0,0,22), (1,1,2) )\n",
    "e = tranfserentropy(joint, Kraskov(w = Bin, k = Bin),  2)  "
   ]
  },
  {
   "cell_type": "code",
   "execution_count": 28,
   "metadata": {},
   "outputs": [
    {
     "data": {
      "text/plain": [
       "3-element Array{Int64,1}:\n",
       "  0\n",
       " 11\n",
       " 20"
      ]
     },
     "execution_count": 28,
     "metadata": {},
     "output_type": "execute_result"
    }
   ],
   "source": [
    "τs = (0,  0, 20)\n",
    "changevector!(τs, 11, 2)"
   ]
  },
  {
   "cell_type": "code",
   "execution_count": 66,
   "metadata": {},
   "outputs": [
    {
     "name": "stdout",
     "output_type": "stream",
     "text": [
      "couplings_TE_Bin=3_est=Kra_maxlag=50_tsjs=0-10-5050_21111.txt\n",
      "1\n"
     ]
    },
    {
     "data": {
      "text/plain": [
       "([6.9088493524943e-310; 6.9086940791534e-310; … ; 6.9088493524508e-310; 6.90884935928316e-310], [6.90884935929185e-310; 6.908852837299e-310; … ; 6.90884475904425e-310; 6.90884935929185e-310])"
      ]
     },
     "execution_count": 66,
     "metadata": {},
     "output_type": "execute_result"
    }
   ],
   "source": [
    "Bin = 3\n",
    "RecBin = 4\n",
    "b = Entropies.RectangularBinning(Bin)\n",
    "root2 = \"../data/exp_pro/correlations_TE\"\n",
    "lag = 25\n",
    "maxτ = 50\n",
    "jumpτ = 5\n",
    "intervalsτ = 10\n",
    "\n",
    "aux = LinRange(jumpτ, maxτ, intervalsτ)\n",
    "τ_range = round.(Int64, aux)\n",
    "\n",
    "τs = (0,  -10, -5, 0, maxτ)\n",
    "#τs = (0,  0, maxτ)\n",
    "\n",
    "##choose one of the estimators\n",
    "#est = VisitationFrequency(b)\n",
    "#est = KozachenkoLeonenko(RecBin,0)\n",
    "#est = KozachenkoLeonenko(w = 0)\n",
    "est = Kraskov(w = Bin, k = Bin)\n",
    "\n",
    "#js = (1, 2, 2)\n",
    "#js = (1, 2, 2, 2, 2)\n",
    "#name = name_of_file(est, Bin, maxτ, τs, js)\n",
    "#mean_TE_xy, TE_xy = TE_for_couplings(test_couplings, τs, js, est, τ_range, root2, name)\n",
    "\n",
    "#js = (2, 1, 1)\n",
    "js = (2, 1, 1, 1, 1)\n",
    "name = name_of_file(est, Bin, maxτ, τs, js)\n",
    "mean_TE_yx, TE_yx = TE_for_couplings(test_couplings, couplings, τs, js, est, τ_range, root2, name) "
   ]
  },
  {
   "cell_type": "code",
   "execution_count": 67,
   "metadata": {},
   "outputs": [
    {
     "data": {
      "text/plain": [
       "131072×2×99 Array{Float64, 3}:\n",
       "[:, :, 1] =\n",
       " -13.457       7.422\n",
       " -11.8113      7.9036\n",
       "  -8.8685      7.63732\n",
       "  -4.8698      6.61706\n",
       "  -0.177043    4.91075\n",
       "   4.75823     2.65276\n",
       "   9.4355      0.0336175\n",
       "  13.3462     -2.71211\n",
       "  15.9628     -5.3251\n",
       "  16.2196     -7.54575\n",
       "  10.4497     -9.13974\n",
       "   3.11429    -9.92223\n",
       "   0.294159   -9.77824\n",
       "   ⋮         \n",
       "  -4.99372   -12.5306\n",
       "  -0.659632  -14.1791\n",
       "   3.965     -14.5388\n",
       "   8.40646   -13.5016\n",
       "  12.1801    -11.0995\n",
       "  14.8152     -7.50722\n",
       "  15.6978     -3.03103\n",
       "  13.1007      1.95096\n",
       "   6.44184     7.00673\n",
       "   2.03878    11.6079\n",
       "  -0.819485   15.2537\n",
       "  -3.50838    17.247\n",
       "\n",
       "[:, :, 2] =\n",
       " -9.04099     9.29594\n",
       " -4.75127    10.9306\n",
       "  0.234221   11.553\n",
       "  5.4339     11.0268\n",
       " 10.3175      9.35093\n",
       " 14.3457      6.72236\n",
       " 16.9043      3.42373\n",
       " 16.06       -0.301802\n",
       "  6.84588    -4.16563\n",
       "  1.23848    -7.81367\n",
       " -0.476405  -10.8764\n",
       " -1.84801   -13.0293\n",
       " -3.07859   -14.0203\n",
       "  ⋮         \n",
       "  2.08681    -5.16538\n",
       "  0.102225   -4.85514\n",
       " -1.98341    -4.06092\n",
       " -3.96385    -2.83678\n",
       " -5.63042    -1.28104\n",
       " -6.79659     0.471261\n",
       " -7.31857     2.26247\n",
       " -7.10905     3.9175\n",
       " -6.15455     5.26896\n",
       " -4.51791     6.17109\n",
       " -2.33559     6.5153\n",
       "  0.192872    6.24297\n",
       "\n",
       "[:, :, 3] =\n",
       " -5.30118     12.8678\n",
       " -3.94408     12.1701\n",
       " -2.11508      9.9865\n",
       "  0.0197073    6.76442\n",
       "  2.25451      3.12324\n",
       "  4.3628      -0.769824\n",
       "  6.12067     -4.73034\n",
       "  7.32895     -8.4113\n",
       "  7.83585    -11.4465\n",
       "  7.55616    -13.5123\n",
       "  6.48475    -14.3653\n",
       "  4.699      -13.8671\n",
       "  2.35006    -12.004\n",
       "  ⋮          \n",
       " -0.500952    -4.30933\n",
       "  3.682       -2.53542\n",
       "  7.68957     -0.423787\n",
       " 11.0858       1.8321\n",
       " 13.4653       4.0175\n",
       " 14.418        5.91369\n",
       " 13.3093       7.31882\n",
       "  9.54324      8.06834\n",
       "  4.98363      8.05659\n",
       "  1.1532       7.25505\n",
       " -2.53728      5.71186\n",
       " -6.10203      3.54865\n",
       "\n",
       "...\n",
       "\n",
       "[:, :, 97] =\n",
       " -3.10081   -5.36462\n",
       " -0.71661   -3.30538\n",
       "  1.85555   -0.819395\n",
       "  4.35883    1.85241\n",
       "  6.53062    4.43975\n",
       "  8.1291     6.66936\n",
       "  8.95928    8.29286\n",
       "  8.89719    9.11345\n",
       "  7.91066    9.0107\n",
       "  6.06825    7.96165\n",
       "  3.52606    6.04818\n",
       "  0.508743   3.43972\n",
       " -2.70172    0.371696\n",
       "  ⋮         \n",
       "  2.60397   -1.62452\n",
       "  7.44483    3.2353\n",
       " 11.7477     7.98565\n",
       " 14.9967    12.1108\n",
       " 16.5206    15.098\n",
       " 13.985     16.2014\n",
       "  5.66835   13.0116\n",
       "  1.33428    5.54678\n",
       " -0.852912   1.60042\n",
       " -2.83541   -0.759281\n",
       " -4.6164    -2.95464\n",
       " -6.00624   -4.91427\n",
       "\n",
       "[:, :, 98] =\n",
       " -9.89936   -10.5498\n",
       " -8.57526   -10.2036\n",
       " -6.30316    -8.78305\n",
       " -3.27205    -6.39114\n",
       "  0.241795   -3.23535\n",
       "  3.89853     0.388963\n",
       "  7.32632     4.12521\n",
       " 10.1558      7.58855\n",
       " 12.0524     10.4025\n",
       " 12.733      12.2297\n",
       " 11.9701     12.7848\n",
       "  9.7182     11.8407\n",
       "  6.41523     9.40301\n",
       "  ⋮         \n",
       " -7.45823   -10.4382\n",
       " -2.83996    -6.63552\n",
       "  2.29215    -1.96928\n",
       "  7.43214     3.1167\n",
       " 12.05        8.12056\n",
       " 15.591      12.5002\n",
       " 17.2369     15.7028\n",
       " 13.3085     16.7695\n",
       "  3.5921     12.0702\n",
       "  0.438133    3.84207\n",
       " -1.03119     0.82148\n",
       " -2.34857    -0.936624\n",
       "\n",
       "[:, :, 99] =\n",
       " 0.0  0.0\n",
       " 0.0  0.0\n",
       " 0.0  0.0\n",
       " 0.0  0.0\n",
       " 0.0  0.0\n",
       " 0.0  0.0\n",
       " 0.0  0.0\n",
       " 0.0  0.0\n",
       " 0.0  0.0\n",
       " 0.0  0.0\n",
       " 0.0  0.0\n",
       " 0.0  0.0\n",
       " 0.0  0.0\n",
       " ⋮    \n",
       " 0.0  0.0\n",
       " 0.0  0.0\n",
       " 0.0  0.0\n",
       " 0.0  0.0\n",
       " 0.0  0.0\n",
       " 0.0  0.0\n",
       " 0.0  0.0\n",
       " 0.0  0.0\n",
       " 0.0  0.0\n",
       " 0.0  0.0\n",
       " 0.0  0.0\n",
       " 0.0  0.0"
      ]
     },
     "execution_count": 67,
     "metadata": {},
     "output_type": "execute_result"
    }
   ],
   "source": [
    "test_couplings"
   ]
  },
  {
   "cell_type": "code",
   "execution_count": 56,
   "metadata": {},
   "outputs": [
    {
     "data": {
      "text/plain": [
       "99×1 Matrix{Float64}:\n",
       " 3.0e-323\n",
       " 3.0e-323\n",
       " 6.90870272137496e-310\n",
       " 6.9087027213789e-310\n",
       " 3.5e-323\n",
       " 4.0e-323\n",
       " 6.90870272138286e-310\n",
       " 6.9087027213868e-310\n",
       " 4.4e-323\n",
       " 6.0e-323\n",
       " 6.90870272139077e-310\n",
       " 6.9087027213947e-310\n",
       " 6.4e-323\n",
       " ⋮\n",
       " 6.9087027215528e-310\n",
       " 2.9e-322\n",
       " 2.9e-322\n",
       " 6.90870272155677e-310\n",
       " 6.9087027215607e-310\n",
       " 2.96e-322\n",
       " 3.2e-322\n",
       " 6.9087027215647e-310\n",
       " 6.90870272156863e-310\n",
       " 3.26e-322\n",
       " 3.36e-322\n",
       " 6.9087027240042e-310"
      ]
     },
     "execution_count": 56,
     "metadata": {},
     "output_type": "execute_result"
    }
   ],
   "source": [
    "mean_TE_xy"
   ]
  },
  {
   "cell_type": "code",
   "execution_count": 57,
   "metadata": {},
   "outputs": [
    {
     "data": {
      "image/svg+xml": [
       "<?xml version=\"1.0\" encoding=\"utf-8\"?>\n",
       "<svg xmlns=\"http://www.w3.org/2000/svg\" xmlns:xlink=\"http://www.w3.org/1999/xlink\" width=\"600\" height=\"400\" viewBox=\"0 0 2400 1600\">\n",
       "<defs>\n",
       "  <clipPath id=\"clip5500\">\n",
       "    <rect x=\"0\" y=\"0\" width=\"2400\" height=\"1600\"/>\n",
       "  </clipPath>\n",
       "</defs>\n",
       "<path clip-path=\"url(#clip5500)\" d=\"\n",
       "M0 1600 L2400 1600 L2400 0 L0 0  Z\n",
       "  \" fill=\"#ffffff\" fill-rule=\"evenodd\" fill-opacity=\"1\"/>\n",
       "<defs>\n",
       "  <clipPath id=\"clip5501\">\n",
       "    <rect x=\"480\" y=\"0\" width=\"1681\" height=\"1600\"/>\n",
       "  </clipPath>\n",
       "</defs>\n",
       "<path clip-path=\"url(#clip5500)\" d=\"\n",
       "M645.299 1425.62 L2352.76 1425.62 L2352.76 47.2441 L645.299 47.2441  Z\n",
       "  \" fill=\"#ffffff\" fill-rule=\"evenodd\" fill-opacity=\"1\"/>\n",
       "<defs>\n",
       "  <clipPath id=\"clip5502\">\n",
       "    <rect x=\"645\" y=\"47\" width=\"1708\" height=\"1379\"/>\n",
       "  </clipPath>\n",
       "</defs>\n",
       "<polyline clip-path=\"url(#clip5502)\" style=\"stroke:#000000; stroke-width:2; stroke-opacity:0.1; fill:none\" points=\"\n",
       "  693.624,1425.62 693.624,47.2441 \n",
       "  \"/>\n",
       "<polyline clip-path=\"url(#clip5502)\" style=\"stroke:#000000; stroke-width:2; stroke-opacity:0.1; fill:none\" points=\"\n",
       "  1015.79,1425.62 1015.79,47.2441 \n",
       "  \"/>\n",
       "<polyline clip-path=\"url(#clip5502)\" style=\"stroke:#000000; stroke-width:2; stroke-opacity:0.1; fill:none\" points=\"\n",
       "  1337.95,1425.62 1337.95,47.2441 \n",
       "  \"/>\n",
       "<polyline clip-path=\"url(#clip5502)\" style=\"stroke:#000000; stroke-width:2; stroke-opacity:0.1; fill:none\" points=\"\n",
       "  1660.11,1425.62 1660.11,47.2441 \n",
       "  \"/>\n",
       "<polyline clip-path=\"url(#clip5502)\" style=\"stroke:#000000; stroke-width:2; stroke-opacity:0.1; fill:none\" points=\"\n",
       "  1982.27,1425.62 1982.27,47.2441 \n",
       "  \"/>\n",
       "<polyline clip-path=\"url(#clip5502)\" style=\"stroke:#000000; stroke-width:2; stroke-opacity:0.1; fill:none\" points=\"\n",
       "  2304.43,1425.62 2304.43,47.2441 \n",
       "  \"/>\n",
       "<polyline clip-path=\"url(#clip5502)\" style=\"stroke:#000000; stroke-width:2; stroke-opacity:0.1; fill:none\" points=\"\n",
       "  645.299,1425.62 2352.76,1425.62 \n",
       "  \"/>\n",
       "<polyline clip-path=\"url(#clip5500)\" style=\"stroke:#000000; stroke-width:4; stroke-opacity:1; fill:none\" points=\"\n",
       "  645.299,1425.62 2352.76,1425.62 \n",
       "  \"/>\n",
       "<polyline clip-path=\"url(#clip5500)\" style=\"stroke:#000000; stroke-width:4; stroke-opacity:1; fill:none\" points=\"\n",
       "  645.299,1425.62 645.299,47.2441 \n",
       "  \"/>\n",
       "<polyline clip-path=\"url(#clip5500)\" style=\"stroke:#000000; stroke-width:4; stroke-opacity:1; fill:none\" points=\"\n",
       "  693.624,1425.62 693.624,1409.08 \n",
       "  \"/>\n",
       "<polyline clip-path=\"url(#clip5500)\" style=\"stroke:#000000; stroke-width:4; stroke-opacity:1; fill:none\" points=\"\n",
       "  1015.79,1425.62 1015.79,1409.08 \n",
       "  \"/>\n",
       "<polyline clip-path=\"url(#clip5500)\" style=\"stroke:#000000; stroke-width:4; stroke-opacity:1; fill:none\" points=\"\n",
       "  1337.95,1425.62 1337.95,1409.08 \n",
       "  \"/>\n",
       "<polyline clip-path=\"url(#clip5500)\" style=\"stroke:#000000; stroke-width:4; stroke-opacity:1; fill:none\" points=\"\n",
       "  1660.11,1425.62 1660.11,1409.08 \n",
       "  \"/>\n",
       "<polyline clip-path=\"url(#clip5500)\" style=\"stroke:#000000; stroke-width:4; stroke-opacity:1; fill:none\" points=\"\n",
       "  1982.27,1425.62 1982.27,1409.08 \n",
       "  \"/>\n",
       "<polyline clip-path=\"url(#clip5500)\" style=\"stroke:#000000; stroke-width:4; stroke-opacity:1; fill:none\" points=\"\n",
       "  2304.43,1425.62 2304.43,1409.08 \n",
       "  \"/>\n",
       "<polyline clip-path=\"url(#clip5500)\" style=\"stroke:#000000; stroke-width:4; stroke-opacity:1; fill:none\" points=\"\n",
       "  645.299,1425.62 665.789,1425.62 \n",
       "  \"/>\n",
       "<g clip-path=\"url(#clip5500)\">\n",
       "<text style=\"fill:#000000; fill-opacity:1; font-family:Arial,Helvetica Neue,Helvetica,sans-serif; font-size:48px; text-anchor:middle;\" transform=\"rotate(0, 693.624, 1479.62)\" x=\"693.624\" y=\"1479.62\">0.00</text>\n",
       "</g>\n",
       "<g clip-path=\"url(#clip5500)\">\n",
       "<text style=\"fill:#000000; fill-opacity:1; font-family:Arial,Helvetica Neue,Helvetica,sans-serif; font-size:48px; text-anchor:middle;\" transform=\"rotate(0, 1015.79, 1479.62)\" x=\"1015.79\" y=\"1479.62\">0.05</text>\n",
       "</g>\n",
       "<g clip-path=\"url(#clip5500)\">\n",
       "<text style=\"fill:#000000; fill-opacity:1; font-family:Arial,Helvetica Neue,Helvetica,sans-serif; font-size:48px; text-anchor:middle;\" transform=\"rotate(0, 1337.95, 1479.62)\" x=\"1337.95\" y=\"1479.62\">0.10</text>\n",
       "</g>\n",
       "<g clip-path=\"url(#clip5500)\">\n",
       "<text style=\"fill:#000000; fill-opacity:1; font-family:Arial,Helvetica Neue,Helvetica,sans-serif; font-size:48px; text-anchor:middle;\" transform=\"rotate(0, 1660.11, 1479.62)\" x=\"1660.11\" y=\"1479.62\">0.15</text>\n",
       "</g>\n",
       "<g clip-path=\"url(#clip5500)\">\n",
       "<text style=\"fill:#000000; fill-opacity:1; font-family:Arial,Helvetica Neue,Helvetica,sans-serif; font-size:48px; text-anchor:middle;\" transform=\"rotate(0, 1982.27, 1479.62)\" x=\"1982.27\" y=\"1479.62\">0.20</text>\n",
       "</g>\n",
       "<g clip-path=\"url(#clip5500)\">\n",
       "<text style=\"fill:#000000; fill-opacity:1; font-family:Arial,Helvetica Neue,Helvetica,sans-serif; font-size:48px; text-anchor:middle;\" transform=\"rotate(0, 2304.43, 1479.62)\" x=\"2304.43\" y=\"1479.62\">0.25</text>\n",
       "</g>\n",
       "<g clip-path=\"url(#clip5500)\">\n",
       "<text style=\"fill:#000000; fill-opacity:1; font-family:Arial,Helvetica Neue,Helvetica,sans-serif; font-size:48px; text-anchor:end;\" transform=\"rotate(0, 621.299, 1443.12)\" x=\"621.299\" y=\"1443.12\">-0.0000000000000001</text>\n",
       "</g>\n",
       "<g clip-path=\"url(#clip5500)\">\n",
       "<text style=\"fill:#000000; fill-opacity:1; font-family:Arial,Helvetica Neue,Helvetica,sans-serif; font-size:66px; text-anchor:middle;\" transform=\"rotate(0, 1499.03, 1559.48)\" x=\"1499.03\" y=\"1559.48\">Coupling ?</text>\n",
       "</g>\n",
       "<g clip-path=\"url(#clip5500)\">\n",
       "<text style=\"fill:#000000; fill-opacity:1; font-family:Arial,Helvetica Neue,Helvetica,sans-serif; font-size:66px; text-anchor:middle;\" transform=\"rotate(-90, 89.2861, 736.431)\" x=\"89.2861\" y=\"736.431\">TE</text>\n",
       "</g>\n",
       "<polyline clip-path=\"url(#clip5502)\" style=\"stroke:#009af9; stroke-width:4; stroke-opacity:1; fill:none\" points=\"\n",
       "  693.624,736.431 710.06,736.431 726.497,736.431 742.934,736.431 759.371,736.431 775.808,736.431 792.244,736.431 808.681,736.431 825.118,736.431 841.555,736.431 \n",
       "  857.992,736.431 874.429,736.431 890.865,736.431 907.302,736.431 923.739,736.431 940.176,736.431 956.613,736.431 973.049,736.431 989.486,736.431 1005.92,736.431 \n",
       "  1022.36,736.431 1038.8,736.431 1055.23,736.431 1071.67,736.431 1088.11,736.431 1104.54,736.431 1120.98,736.431 1137.42,736.431 1153.85,736.431 1170.29,736.431 \n",
       "  1186.73,736.431 1203.16,736.431 1219.6,736.431 1236.04,736.431 1252.48,736.431 1268.91,736.431 1285.35,736.431 1301.79,736.431 1318.22,736.431 1334.66,736.431 \n",
       "  1351.1,736.431 1367.53,736.431 1383.97,736.431 1400.41,736.431 1416.84,736.431 1433.28,736.431 1449.72,736.431 1466.15,736.431 1482.59,736.431 1499.03,736.431 \n",
       "  1515.46,736.431 1531.9,736.431 1548.34,736.431 1564.77,736.431 1581.21,736.431 1597.65,736.431 1614.09,736.431 1630.52,736.431 1646.96,736.431 1663.4,736.431 \n",
       "  1679.83,736.431 1696.27,736.431 1712.71,736.431 1729.14,736.431 1745.58,736.431 1762.02,736.431 1778.45,736.431 1794.89,736.431 1811.33,736.431 1827.76,736.431 \n",
       "  1844.2,736.431 1860.64,736.431 1877.07,736.431 1893.51,736.431 1909.95,736.431 1926.38,736.431 1942.82,736.431 1959.26,736.431 1975.7,736.431 1992.13,736.431 \n",
       "  2008.57,736.431 2025.01,736.431 2041.44,736.431 2057.88,736.431 2074.32,736.431 2090.75,736.431 2107.19,736.431 2123.63,736.431 2140.06,736.431 2156.5,736.431 \n",
       "  2172.94,736.431 2189.37,736.431 2205.81,736.431 2222.25,736.431 2238.68,736.431 2255.12,736.431 2271.56,736.431 2287.99,736.431 2304.43,736.431 \n",
       "  \"/>\n",
       "<path clip-path=\"url(#clip5500)\" d=\"\n",
       "M1989.93 251.724 L2280.76 251.724 L2280.76 130.764 L1989.93 130.764  Z\n",
       "  \" fill=\"#ffffff\" fill-rule=\"evenodd\" fill-opacity=\"1\"/>\n",
       "<polyline clip-path=\"url(#clip5500)\" style=\"stroke:#000000; stroke-width:4; stroke-opacity:1; fill:none\" points=\"\n",
       "  1989.93,251.724 2280.76,251.724 2280.76,130.764 1989.93,130.764 1989.93,251.724 \n",
       "  \"/>\n",
       "<polyline clip-path=\"url(#clip5500)\" style=\"stroke:#009af9; stroke-width:4; stroke-opacity:1; fill:none\" points=\"\n",
       "  2013.93,191.244 2157.93,191.244 \n",
       "  \"/>\n",
       "<g clip-path=\"url(#clip5500)\">\n",
       "<text style=\"fill:#000000; fill-opacity:1; font-family:Arial,Helvetica Neue,Helvetica,sans-serif; font-size:48px; text-anchor:start;\" transform=\"rotate(0, 2181.93, 208.744)\" x=\"2181.93\" y=\"208.744\">y1</text>\n",
       "</g>\n",
       "</svg>\n"
      ]
     },
     "execution_count": 57,
     "metadata": {},
     "output_type": "execute_result"
    }
   ],
   "source": [
    "plot(couplings, mean_TE_xy)\n",
    "xlabel!(\"Coupling ϵ\")\n",
    "ylabel!(\"TE\")"
   ]
  },
  {
   "cell_type": "code",
   "execution_count": 74,
   "metadata": {},
   "outputs": [
    {
     "name": "stdout",
     "output_type": "stream",
     "text": [
      "[5, 10, 15, 20, 25, 30, 35, 40, 45, 50]\n",
      "5  uh "
     ]
    },
    {
     "ename": "LoadError",
     "evalue": "BoundsError: attempt to access (-13.45701, 2.652757, -3.878211)\n  at index [5]",
     "output_type": "error",
     "traceback": [
      "BoundsError: attempt to access (-13.45701, 2.652757, -3.878211)\n  at index [5]",
      "",
      "Stacktrace:",
      " [1] getindex at ./tuple.jl:24 [inlined]",
      " [2] getindex at /Users/andreu/.julia/packages/StaticArrays/NTbHj/src/SVector.jl:40 [inlined]",
      " [3] getindex at /Users/andreu/.julia/packages/DelayEmbeddings/Jcztf/src/dataset.jl:40 [inlined]",
      " [4] getindex(::Dataset{3,Float64}, ::UnitRange{Int64}, ::Array{Int64,1}) at /Users/andreu/.julia/packages/DelayEmbeddings/Jcztf/src/dataset.jl:64",
      " [5] getindex at /Users/andreu/.julia/packages/DelayEmbeddings/Jcztf/src/dataset.jl:72 [inlined]",
      " [6] tranfserentropy(::Dataset{3,Float64}, ::KozachenkoLeonenko, ::Int64, ::Int64) at /Users/andreu/project_TE/package_CMI_prague/src/basicent.jl:96",
      " [7] tranfserentropy(::Dataset{3,Float64}, ::KozachenkoLeonenko, ::Int64) at /Users/andreu/project_TE/package_CMI_prague/src/basicent.jl:94",
      " [8] macro expansion at ./In[74]:35 [inlined]",
      " [9] macro expansion at /Users/andreu/.julia/packages/Suppressor/nTjgZ/src/Suppressor.jl:98 [inlined]",
      " [10] (::var\"#145#147\")(::IOStream) at ./In[74]:23",
      " [11] open(::var\"#145#147\", ::String, ::Vararg{String,N} where N; kwargs::Base.Iterators.Pairs{Union{},Union{},Tuple{},NamedTuple{(),Tuple{}}}) at ./io.jl:325",
      " [12] open(::Function, ::String, ::String) at ./io.jl:323",
      " [13] top-level scope at In[74]:22",
      " [14] include_string(::Function, ::Module, ::String, ::String) at ./loading.jl:1091"
     ]
    }
   ],
   "source": [
    "#root2 = \"/Users/andreu/Desktop/Dropbox/transfer_inormation_prague/code/correlations_TE\"\n",
    "root2 = \"../data/exp_pro/correlations_TE\"\n",
    "maxτ = 50\n",
    "jumpτ = 5\n",
    "aux = LinRange(jumpτ, maxτ, 10)\n",
    "τ_range = round.(Int64, aux)\n",
    "println(τ_range)\n",
    "#τs = (0,  10, 5, 0, maxτ)\n",
    "#js = (2, 1, 1, 1, 1)\n",
    "#js = (1, 2, 2, 2, 2)\n",
    "\n",
    "τs = (0, 0,  maxτ ) #RIGhT ORDER FOR THE 3 dimensional embbeding case\n",
    "#js = (2, 1, 1)\n",
    "js = (1, 2, 2)\n",
    "\n",
    "aux = '_'\n",
    "for (i, e) in enumerate(τs)\n",
    "    aux = string(τs[length(τs)-i+1],aux,js[i])\n",
    "end\n",
    "name = \"couplings_meanTE_Knn$RecBin-$aux.txt\"\n",
    "\n",
    "open(\"$root2/$name\", \"w\") do f\n",
    "    @suppress_err begin\n",
    "        for i in 1:size(test_couplings, 3)-1\n",
    "            mean_TE = 0\n",
    "            a = test_couplings[:,:,i]\n",
    "            x = a[:,1]\n",
    "            y = a[:,2]\n",
    "            for t in τ_range\n",
    "                print(t)\n",
    "                ts =  changevector!(τs, t, length(τs))\n",
    "                joint = DelayEmbeddings.genembed(Dataset(x, y),  ts, js )\n",
    "                #e = tranfserentropy(joint, VisitationFrequency(b), α = 1.0, base = 2)\n",
    "                #e = tranfserentropy(joint, VisitationFrequency(b); embdim = 5, α =1.0, base =2)\n",
    "                e = tranfserentropy(joint, KozachenkoLeonenko(1,8),  2)\n",
    "                mean_TE += e/length(τ_range)  \n",
    "            end\n",
    "            aux = couplings[i]\n",
    "            println(couplings[i], ' ', mean_TE)\n",
    "            write(f, \"$aux $mean_TE\\n\")\n",
    "        end\n",
    "    end\n",
    "end"
   ]
  },
  {
   "cell_type": "code",
   "execution_count": 169,
   "metadata": {},
   "outputs": [
    {
     "data": {
      "text/plain": [
       "10-element Array{Int64,1}:\n",
       "  3\n",
       "  6\n",
       "  9\n",
       " 12\n",
       " 15\n",
       " 18\n",
       " 21\n",
       " 24\n",
       " 27\n",
       " 30"
      ]
     },
     "execution_count": 169,
     "metadata": {},
     "output_type": "execute_result"
    }
   ],
   "source": [
    "aux = LinRange(jumpτ, maxτ, 10)\n",
    "τ_range = round.(Int64, aux)"
   ]
  },
  {
   "cell_type": "code",
   "execution_count": 137,
   "metadata": {},
   "outputs": [
    {
     "data": {
      "text/plain": [
       "5.5"
      ]
     },
     "execution_count": 137,
     "metadata": {},
     "output_type": "execute_result"
    }
   ],
   "source": [
    "τ_range = LinRange(1, 10, 10)\n",
    "EE = Array{Float64}(undef,  length(τ_range), 1)\n",
    "for t in τ_range\n",
    "    EE[1] += t/length(τ_range) #+ EE[1] \n",
    "end\n",
    "EE[1]"
   ]
  },
  {
   "cell_type": "markdown",
   "metadata": {},
   "source": [
    "?DelayEmbeddings.genembed"
   ]
  },
  {
   "cell_type": "markdown",
   "metadata": {},
   "source": [
    "test_couplings[1,2,1]"
   ]
  },
  {
   "cell_type": "code",
   "execution_count": 30,
   "metadata": {},
   "outputs": [],
   "source": [
    "\n",
    "a1 = test_couplings[:,:,1]\n",
    "x1 = a1[:,1]\n",
    "y1 = a1[:,2]"
   ]
  },
  {
   "cell_type": "code",
   "execution_count": 32,
   "metadata": {},
   "outputs": [],
   "source": [
    "joint= DelayEmbeddings.genembed(Dataset(x1, y1),  (0,0,1), (1,2,2) );"
   ]
  },
  {
   "cell_type": "markdown",
   "metadata": {},
   "source": [
    "?Entropies.genentropy"
   ]
  }
 ],
 "metadata": {
  "kernelspec": {
   "display_name": "Julia 1.6.2",
   "language": "julia",
   "name": "julia-1.6"
  },
  "language_info": {
   "file_extension": ".jl",
   "mimetype": "application/julia",
   "name": "julia",
   "version": "1.6.2"
  }
 },
 "nbformat": 4,
 "nbformat_minor": 4
}
